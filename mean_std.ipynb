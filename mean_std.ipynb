{
 "cells": [
  {
   "cell_type": "code",
   "execution_count": 1,
   "metadata": {
    "collapsed": true,
    "deletable": true,
    "editable": true
   },
   "outputs": [],
   "source": [
    "import glob\n",
    "from os import path\n",
    "import torch\n",
    "import torchvision.transforms as transforms\n",
    "from PIL import Image\n",
    "from dataset.ReadImages import readImageswithPattern"
   ]
  },
  {
   "cell_type": "code",
   "execution_count": 2,
   "metadata": {
    "collapsed": true,
    "deletable": true,
    "editable": true
   },
   "outputs": [],
   "source": [
    "dataset_path = '/home/mrim/kohlm/nnForRetrieval/data/pre_proc/fourviere_227sq'\n",
    "dataset_test = '/home/mrim/kohlm/nnForRetrieval/data/pre_proc/fourviere_227sq/test'"
   ]
  },
  {
   "cell_type": "code",
   "execution_count": 3,
   "metadata": {
    "collapsed": false,
    "deletable": true,
    "editable": true
   },
   "outputs": [],
   "source": [
    "def match(x):\n",
    "    return x.split('/')[-1].split('-')[0]\n",
    "\n",
    "trainSetFull = readImageswithPattern(dataset_path, match)\n",
    "testSetFull = readImageswithPattern(dataset_test, match)"
   ]
  },
  {
   "cell_type": "code",
   "execution_count": 4,
   "metadata": {
    "collapsed": false,
    "deletable": true,
    "editable": true
   },
   "outputs": [],
   "source": [
    "labels = list(set([t[1] for t in trainSetFull]))\n",
    "size = sum(1 for _, lab in trainSetFull if lab in labels)\n",
    "T = torch.Tensor(size, 3, 227, 227)\n",
    "i = 0\n",
    "for img, lab in trainSetFull:\n",
    "    if lab in labels:\n",
    "        im = Image.open(img)\n",
    "        T[i] = transforms.ToTensor()(im)\n",
    "        i += 1"
   ]
  },
  {
   "cell_type": "code",
   "execution_count": 5,
   "metadata": {
    "collapsed": false,
    "deletable": true,
    "editable": true
   },
   "outputs": [
    {
     "name": "stdout",
     "output_type": "stream",
     "text": [
      "[0.3643357148734363, 0.304306334270731, 0.2774018310814609]\n",
      "[0.21223013632973034, 0.2003156783406293, 0.19758758196073448]\n"
     ]
    }
   ],
   "source": [
    "mean = [0, 0, 0]\n",
    "std = [0, 0, 0]\n",
    "for i in range(3):\n",
    "    mean[i] = T[:, i, :, :].mean()\n",
    "    std[i] = T[:, i, :, :].std()\n",
    "print(mean)\n",
    "print(std)"
   ]
  },
  {
   "cell_type": "code",
   "execution_count": null,
   "metadata": {
    "collapsed": true,
    "deletable": true,
    "editable": true
   },
   "outputs": [],
   "source": []
  }
 ],
 "metadata": {
  "kernelspec": {
   "display_name": "Python 2",
   "language": "python",
   "name": "python2"
  },
  "language_info": {
   "codemirror_mode": {
    "name": "ipython",
    "version": 2
   },
   "file_extension": ".py",
   "mimetype": "text/x-python",
   "name": "python",
   "nbconvert_exporter": "python",
   "pygments_lexer": "ipython2",
   "version": "2.7.9"
  }
 },
 "nbformat": 4,
 "nbformat_minor": 2
}
