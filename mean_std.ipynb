{
 "cells": [
  {
   "cell_type": "code",
   "execution_count": 33,
   "metadata": {
    "collapsed": false,
    "deletable": true,
    "editable": true
   },
   "outputs": [],
   "source": [
    "import glob\n",
    "from os import path\n",
    "import torch\n",
    "import torchvision.transforms as transforms\n",
    "import cv2\n",
    "import numpy as np\n",
    "from utils_dataset import get_images_labels\n",
    "from utils_image import imread_rgb\n",
    "from utils_params import match_label_fou_clean2, match_label_video"
   ]
  },
  {
   "cell_type": "code",
   "execution_count": 34,
   "metadata": {
    "collapsed": true,
    "deletable": true,
    "editable": true
   },
   "outputs": [],
   "source": [
    "dataset_path = 'data/pre_proc/CLICIDE_video_224sq'\n",
    "match_labels = match_label_video\n",
    "image_size = None"
   ]
  },
  {
   "cell_type": "code",
   "execution_count": 35,
   "metadata": {
    "collapsed": false,
    "deletable": true,
    "editable": true
   },
   "outputs": [],
   "source": [
    "dataset_full = get_images_labels(dataset_path, match_labels)"
   ]
  },
  {
   "cell_type": "code",
   "execution_count": 36,
   "metadata": {
    "collapsed": false,
    "deletable": true,
    "editable": true
   },
   "outputs": [
    {
     "name": "stdout",
     "output_type": "stream",
     "text": [
      "[0.42547604114835502, 0.42643734822029833, 0.41766329596168206]\n",
      "[0.2215131390640957, 0.21265148289169833, 0.20964298884822521]\n"
     ]
    }
   ],
   "source": [
    "mean = [0., 0., 0.]\n",
    "std = [0., 0., 0.]\n",
    "size = len(dataset_full)\n",
    "if image_size is not None:\n",
    "    T = torch.Tensor(size, *(image_size))\n",
    "    for i, (im, _) in enumerate(dataset_full):\n",
    "        T[i] = transforms.ToTensor()(imread_rgb(im))\n",
    "    for i in range(3):\n",
    "        mean[i] = T[:, i, :, :].mean()\n",
    "        std[i] = T[:, i, :, :].std()\n",
    "else:\n",
    "    # cannot take mean/std of whole dataset tensor.\n",
    "    # need to compute mean of all pixels and std afterwards, pixel by pixel\n",
    "    dataset_open = []\n",
    "    for im, _ in dataset_full:\n",
    "        im_o = imread_rgb(im) / 255.  # cv2 images are 0-255, torch tensors are 0-1\n",
    "        im_size = im_o.shape[0] * im_o.shape[1]\n",
    "        dataset_open.append((im_o, im_size))\n",
    "        for i in range(3):\n",
    "            mean[i] += np.sum(im_o[:, :, i]) / (im_size * size)\n",
    "    for im_o, im_size in dataset_open:\n",
    "        for i in range(3):\n",
    "            std[i] += np.sum(np.square(im_o[:, :, i] - mean[i])) / (im_size * size)\n",
    "    for i in range(3):\n",
    "        std[i] = np.sqrt(std[i])\n",
    "print(mean)\n",
    "print(std)"
   ]
  },
  {
   "cell_type": "code",
   "execution_count": null,
   "metadata": {
    "collapsed": true,
    "deletable": true,
    "editable": true
   },
   "outputs": [],
   "source": []
  }
 ],
 "metadata": {
  "kernelspec": {
   "display_name": "Python 2",
   "language": "python",
   "name": "python2"
  },
  "language_info": {
   "codemirror_mode": {
    "name": "ipython",
    "version": 2
   },
   "file_extension": ".py",
   "mimetype": "text/x-python",
   "name": "python",
   "nbconvert_exporter": "python",
   "pygments_lexer": "ipython2",
   "version": "2.7.9"
  }
 },
 "nbformat": 4,
 "nbformat_minor": 2
}
