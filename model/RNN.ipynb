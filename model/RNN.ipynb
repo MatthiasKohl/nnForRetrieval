{
 "cells": [
  {
   "cell_type": "code",
   "execution_count": 2,
   "metadata": {
    "collapsed": true
   },
   "outputs": [],
   "source": [
    "import torch\n",
    "import torch.nn as nn\n",
    "import torchvision.models as models\n",
    "from torch.autograd import Variable"
   ]
  },
  {
   "cell_type": "code",
   "execution_count": null,
   "metadata": {
    "collapsed": true
   },
   "outputs": [],
   "source": [
    "class RNN(nn.Module):\n",
    "    \"\"\"\n",
    "        Define a RNN network\n",
    "    \"\"\"\n",
    "    def __init__(self, net, hidden_size):\n",
    "        super(siamese, self).__init__()\n",
    "        self.features = net\n",
    "        self.rnn = nn.LSTMCell(input_size=net.classifier[len(net.classifier._modules)-1], hidden_size=hidden_size)\n",
    "    \n",
    "    def forward(self, x, hx, cx):\n",
    "        x = self.features(x)\n",
    "        x = self.rnn(x, hx, cx)\n",
    "        return x, hx"
   ]
  }
 ],
 "metadata": {
  "kernelspec": {
   "display_name": "Python 2",
   "language": "python",
   "name": "python2"
  },
  "language_info": {
   "codemirror_mode": {
    "name": "ipython",
    "version": 2
   },
   "file_extension": ".py",
   "mimetype": "text/x-python",
   "name": "python",
   "nbconvert_exporter": "python",
   "pygments_lexer": "ipython2",
   "version": "2.7.9"
  }
 },
 "nbformat": 4,
 "nbformat_minor": 2
}
