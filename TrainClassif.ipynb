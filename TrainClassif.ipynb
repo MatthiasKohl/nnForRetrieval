{
 "cells": [
  {
   "cell_type": "code",
   "execution_count": 1,
   "metadata": {
    "collapsed": false
   },
   "outputs": [],
   "source": [
    "import torch\n",
    "import torch.nn as nn\n",
    "import torch.nn.parallel\n",
    "import torch.backends.cudnn as cudnn\n",
    "import torch.optim as optim\n",
    "import torch.utils.data\n",
    "import torchvision.transforms as transforms\n",
    "import torchvision.datasets as datasets\n",
    "import torchvision.models as models\n",
    "from torch.autograd import Variable\n",
    "import numpy as np\n",
    "import random\n",
    "from PIL import Image\n",
    "from ipywidgets import FloatProgress\n",
    "from IPython.display import display\n",
    "from __future__ import print_function\n",
    "\n",
    "from model import ModelDefinition\n",
    "from dataset import ReadImages, collection\n",
    "import os\n",
    "os.environ['CUDA_VISIBLE_DEVICES'] = '1'"
   ]
  },
  {
   "cell_type": "markdown",
   "metadata": {},
   "source": [
    "Process the dataset :\n",
    "We have to compute the number of class, and the mean and std for image normalization"
   ]
  },
  {
   "cell_type": "markdown",
   "metadata": {},
   "source": [
    "Read the dataset and compute the mean and std dev :"
   ]
  },
  {
   "cell_type": "code",
   "execution_count": 2,
   "metadata": {
    "collapsed": false
   },
   "outputs": [],
   "source": [
    "trainset = ReadImages.readImageswithPattern('/video/CLICIDE', lambda x:x.split('/')[-1].split('-')[0])\n",
    "testset = ReadImages.readImageswithPattern('/video/CLICIDE/test/', lambda x:x.split('/')[-1].split('-')[0])"
   ]
  },
  {
   "cell_type": "code",
   "execution_count": 3,
   "metadata": {
    "collapsed": false
   },
   "outputs": [],
   "source": [
    "def MeanAndStd(imageList, fname=None):\n",
    "    imageListOpen = ReadImages.openAll(trainset, (225,225))\n",
    "    m = collection.ComputeMean(imageListOpen)\n",
    "    print(\"Mean : \", m)\n",
    "    s = collection.ComputeStdDev(imageListOpen, m)\n",
    "    print(\"std dev : \", s)\n",
    "    if not fname is None:\n",
    "        with open(fname, \"w\") as f:\n",
    "            f.write('%.3f %.3f %.3f' %m)\n",
    "            f.write('\\n')\n",
    "            f.write('%.3f %.3f %.3f' %(s))\n",
    "    return m,s"
   ]
  },
  {
   "cell_type": "code",
   "execution_count": 4,
   "metadata": {
    "collapsed": false
   },
   "outputs": [],
   "source": [
    "def readMeanStd(fname='data/cli.txt'):\n",
    "    with open(fname) as f:\n",
    "        mean = map(float, f.readline().split(' '))\n",
    "        std = map(float, f.readline().split(' '))\n",
    "    return mean, std"
   ]
  },
  {
   "cell_type": "code",
   "execution_count": 5,
   "metadata": {
    "collapsed": true
   },
   "outputs": [],
   "source": [
    "m, s = readMeanStd()"
   ]
  },
  {
   "cell_type": "markdown",
   "metadata": {},
   "source": [
    "Define the network as class (from nn.Module) :"
   ]
  },
  {
   "cell_type": "markdown",
   "metadata": {
    "collapsed": true
   },
   "source": [
    "Training"
   ]
  },
  {
   "cell_type": "code",
   "execution_count": 6,
   "metadata": {
    "collapsed": false
   },
   "outputs": [],
   "source": [
    "#create the network\n",
    "mymodel = ModelDefinition.Maxnet()\n",
    "ModelDefinition.copyParameters(mymodel, models.alexnet(pretrained=True))\n",
    "\n",
    "#define the optimizer to only the classifier with lr of 1e-2\n",
    "optimizer=optim.SGD([\n",
    "                {'params': mymodel.classifier.parameters()},\n",
    "                {'params': mymodel.features.parameters(), 'lr': 0.0}\n",
    "            ], lr=1e-2, momentum=0.9)\n"
   ]
  },
  {
   "cell_type": "code",
   "execution_count": 7,
   "metadata": {
    "collapsed": true
   },
   "outputs": [],
   "source": [
    "listLabel = [t[1] for t in trainset if not 'wall' in t[1]]"
   ]
  },
  {
   "cell_type": "code",
   "execution_count": 8,
   "metadata": {
    "collapsed": false
   },
   "outputs": [],
   "source": [
    "labels = list(set(listLabel))"
   ]
  },
  {
   "cell_type": "code",
   "execution_count": 9,
   "metadata": {
    "collapsed": false
   },
   "outputs": [],
   "source": [
    "for i in range(len(trainset)):\n",
    "    trainset[i] = (Image.open(trainset[i][0]), trainset[i][1])"
   ]
  },
  {
   "cell_type": "code",
   "execution_count": 10,
   "metadata": {
    "collapsed": false
   },
   "outputs": [],
   "source": [
    "for i in range(len(testset)):\n",
    "    testset[i] = (Image.open(testset[i][0]), testset[i][1])"
   ]
  },
  {
   "cell_type": "code",
   "execution_count": null,
   "metadata": {
    "collapsed": false
   },
   "outputs": [
    {
     "name": "stdout",
     "output_type": "stream",
     "text": [
      "[1,    10] loss: 6.080\n",
      "[1,    20] loss: 5.353\n",
      "[1,    30] loss: 4.285\n"
     ]
    }
   ],
   "source": [
    "#mymodel.cuda()\n",
    "#mymodel = best.train()\n",
    "criterion = nn.loss.CrossEntropyLoss()\n",
    "#optimizer = optim.SGD(mymodel.parameters(), lr=0.0001, momentum=0.9)\n",
    "\n",
    "#trainset, imagesList = readImages(\"CliList.txt\")\n",
    "#testset, imagesTest = readImages(\"CliListTest.txt\")\n",
    "#labels = open(\"CliConcept.txt\").read().splitlines()\n",
    "\n",
    "mymodel.train().cuda()\n",
    "\n",
    "imageTransform = transforms.Compose( (transforms.Scale(300), transforms.RandomCrop(225), transforms.ToTensor(), transforms.Normalize(m,s)) )\n",
    "testTransform = transforms.Compose( (transforms.Scale(225), transforms.ToTensor(), transforms.Normalize(m,s)))\n",
    "batchSize = 64\n",
    "bestScore = 0\n",
    "for epoch in range(50): # loop over the dataset multiple times\n",
    "    running_loss = 0.0\n",
    "    random.shuffle(trainset)    \n",
    "    for i in range(len(trainset)/batchSize):\n",
    "        \n",
    "        # get the inputs\n",
    "        inputs = torch.Tensor(batchSize,3,225,225).cuda()\n",
    "        for j in range(batchSize):\n",
    "            inputs[j] = imageTransform(trainset[j+i*batchSize][0])\n",
    "        inputs = Variable(inputs)\n",
    "        \n",
    "        #get the labels\n",
    "        lab = Variable(torch.LongTensor([labels.index(trainset[j+i*batchSize][1]) for j in range(batchSize)]).cuda())\n",
    "        \n",
    "        # zero the parameter gradients\n",
    "        optimizer.zero_grad()\n",
    "        \n",
    "        # forward + backward + optimize\n",
    "        outputs = mymodel(inputs)\n",
    "        loss = criterion(outputs, lab)\n",
    "        loss.backward()\n",
    "        optimizer.step()\n",
    "        \n",
    "        # print statistics\n",
    "        running_loss += loss.data[0]\n",
    "        if i % 10 == 9: # print every 10 mini-batches\n",
    "            print('[%d, %5d] loss: %.3f' % (epoch+1, i+1, running_loss / 10))\n",
    "            running_loss = 0.0\n",
    "            \n",
    "        if i % 50 == 49: #test every 20 mini-batches\n",
    "            print('test :')\n",
    "            mymodel = mymodel.eval()\n",
    "            correct = 0\n",
    "            tot = 0\n",
    "            cpt = 0\n",
    "            for j in range(len(testset)/batchSize):\n",
    "                inp = torch.Tensor(batchSize,3,225,225).cuda()\n",
    "                for k in range(batchSize):\n",
    "                    inp[k] = testTransform(testset[j*batchSize+k][0])\n",
    "                    cpt += 1\n",
    "                outputs = mymodel(Variable(inp))\n",
    "                _, predicted = torch.max(outputs.data, 1)\n",
    "                predicted = predicted.tolist()\n",
    "                for k in range(batchSize):\n",
    "                    if (testset[j*batchSize+k][1] in labels):\n",
    "                        correct += (predicted[k][0] == labels.index(testset[j*batchSize+k][1]))\n",
    "                        tot += 1\n",
    "                        \n",
    "            rest = len(testset)%batchSize\n",
    "            inp = torch.Tensor(rest,3,225,225).cuda()\n",
    "            for j in range(rest):\n",
    "                inp[j] = testTransform(testset[len(testset)-rest+j])\n",
    "            outputs = mymodel(Variable(inp))\n",
    "            _, predicted = torch.max(outputs.data, 1)\n",
    "            predicted = predicted.tolist()\n",
    "            for j in range(rest):\n",
    "                if (testset[len(testset)-rest+j][1] in labels):\n",
    "                   correct += (predicted[j][0] == labels.index(testset[len(testset)-rest+j][1]))\n",
    "                   tot += 1\n",
    "            print(\"Correct : \", correct, \"/\", tot)\n",
    "            if (correct >= bestScore):\n",
    "                best = mymodel\n",
    "                bestScore = correct\n",
    "                torch.save(best, \"bestModel.ckpt\")\n",
    "            #else:\n",
    "            #    mymodel = best\n",
    "            torch.save(mymodel, \"model-\"+epoch+\".ckpt\")\n",
    "            mymodel = mymodel.train()\n",
    "            \n",
    "print('Finished Training')"
   ]
  },
  {
   "cell_type": "code",
   "execution_count": null,
   "metadata": {
    "collapsed": false
   },
   "outputs": [],
   "source": [
    "m = ModelDefinition.SiameseMax()"
   ]
  },
  {
   "cell_type": "code",
   "execution_count": null,
   "metadata": {
    "collapsed": false
   },
   "outputs": [],
   "source": [
    "im = Image.open(trainset[0][0]).resize( (225, 225))\n",
    "testTransform = transforms.Compose( (transforms.Scale(225), transforms.ToTensor()))\n",
    "im = testTransform(im)"
   ]
  },
  {
   "cell_type": "code",
   "execution_count": null,
   "metadata": {
    "collapsed": false
   },
   "outputs": [],
   "source": [
    "t = torch.Tensor(1,3,225,225)\n",
    "t[0] = im\n",
    "output = m( Variable(t), Variable(t) ) "
   ]
  },
  {
   "cell_type": "code",
   "execution_count": null,
   "metadata": {
    "collapsed": false
   },
   "outputs": [],
   "source": [
    "optimizer"
   ]
  }
 ],
 "metadata": {
  "kernelspec": {
   "display_name": "Python 2",
   "language": "python",
   "name": "python2"
  },
  "language_info": {
   "codemirror_mode": {
    "name": "ipython",
    "version": 2
   },
   "file_extension": ".py",
   "mimetype": "text/x-python",
   "name": "python",
   "nbconvert_exporter": "python",
   "pygments_lexer": "ipython2",
   "version": "2.7.9"
  }
 },
 "nbformat": 4,
 "nbformat_minor": 2
}
