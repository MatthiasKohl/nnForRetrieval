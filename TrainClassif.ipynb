{
 "cells": [
  {
   "cell_type": "code",
   "execution_count": 1,
   "metadata": {
    "collapsed": false
   },
   "outputs": [],
   "source": [
    "import torch\n",
    "import torch.nn as nn\n",
    "import torch.nn.parallel\n",
    "import torch.backends.cudnn as cudnn\n",
    "import torch.optim as optim\n",
    "import torch.utils.data\n",
    "import torchvision.transforms as transforms\n",
    "import torchvision.datasets as datasets\n",
    "import torchvision.models as models\n",
    "from torch.autograd import Variable\n",
    "import numpy as np\n",
    "import random\n",
    "from PIL import Image\n",
    "from ipywidgets import FloatProgress\n",
    "from IPython.display import display\n",
    "from __future__ import print_function\n",
    "\n",
    "from model import ModelDefinition\n",
    "from dataset import ReadImages, collection\n",
    "import os\n",
    "os.environ['CUDA_VISIBLE_DEVICES'] = '1'"
   ]
  },
  {
   "cell_type": "markdown",
   "metadata": {},
   "source": [
    "Process the dataset :\n",
    "We have to compute the number of class, and the mean and std for image normalization"
   ]
  },
  {
   "cell_type": "markdown",
   "metadata": {},
   "source": [
    "Read the dataset and compute the mean and std dev :"
   ]
  },
  {
   "cell_type": "code",
   "execution_count": 2,
   "metadata": {
    "collapsed": false
   },
   "outputs": [],
   "source": [
    "trainset = ReadImages.readImageswithPattern('/video/CLICIDE', lambda x:x.split('/')[-1].split('-')[0])\n",
    "testset = ReadImages.readImageswithPattern('/video/CLICIDE/test/', lambda x:x.split('/')[-1].split('-')[0])"
   ]
  },
  {
   "cell_type": "code",
   "execution_count": 3,
   "metadata": {
    "collapsed": false
   },
   "outputs": [],
   "source": [
    "def MeanAndStd(imageList, fname=None):\n",
    "    imageListOpen = ReadImages.openAll(trainset, (225,225))\n",
    "    m = collection.ComputeMean(imageListOpen)\n",
    "    print(\"Mean : \", m)\n",
    "    s = collection.ComputeStdDev(imageListOpen, m)\n",
    "    print(\"std dev : \", s)\n",
    "    if not fname is None:\n",
    "        with open(fname, \"w\") as f:\n",
    "            f.write('%.3f %.3f %.3f' %m)\n",
    "            f.write('\\n')\n",
    "            f.write('%.3f %.3f %.3f' %(s))\n",
    "    return m,s"
   ]
  },
  {
   "cell_type": "code",
   "execution_count": 4,
   "metadata": {
    "collapsed": false
   },
   "outputs": [],
   "source": [
    "def readMeanStd(fname='data/cli.txt'):\n",
    "    with open(fname) as f:\n",
    "        mean = map(float, f.readline().split(' '))\n",
    "        std = map(float, f.readline().split(' '))\n",
    "    return mean, std"
   ]
  },
  {
   "cell_type": "code",
   "execution_count": 5,
   "metadata": {
    "collapsed": true
   },
   "outputs": [],
   "source": [
    "m, s = readMeanStd()"
   ]
  },
  {
   "cell_type": "markdown",
   "metadata": {},
   "source": [
    "Define the network as class (from nn.Module) :"
   ]
  },
  {
   "cell_type": "markdown",
   "metadata": {
    "collapsed": true
   },
   "source": [
    "Training"
   ]
  },
  {
   "cell_type": "code",
   "execution_count": 6,
   "metadata": {
    "collapsed": false
   },
   "outputs": [],
   "source": [
    "#create the network\n",
    "mymodel = ModelDefinition.Maxnet()\n",
    "ModelDefinition.copyParameters(mymodel, models.alexnet(pretrained=True))"
   ]
  },
  {
   "cell_type": "code",
   "execution_count": 18,
   "metadata": {
    "collapsed": true
   },
   "outputs": [],
   "source": [
    "#define the optimizer to only the classifier with lr of 1e-3\n",
    "\n",
    "optimizer=optim.SGD([\n",
    "                {'params': mymodel.classifier.parameters()},\n",
    "                {'params': mymodel.features.parameters(), 'lr': 0.0}\n",
    "            ], lr=1e-3, momentum=0.9)"
   ]
  },
  {
   "cell_type": "code",
   "execution_count": 21,
   "metadata": {
    "collapsed": false
   },
   "outputs": [],
   "source": [
    "#define the optimizer train on all the network\n",
    "\n",
    "optimizer=optim.SGD(mymodel.parameters(), lr=0.0005, momentum=0.9)"
   ]
  },
  {
   "cell_type": "code",
   "execution_count": 7,
   "metadata": {
    "collapsed": true
   },
   "outputs": [],
   "source": [
    "listLabel = [t[1] for t in trainset if not 'wall' in t[1]]"
   ]
  },
  {
   "cell_type": "code",
   "execution_count": 8,
   "metadata": {
    "collapsed": false
   },
   "outputs": [],
   "source": [
    "labels = list(set(listLabel))"
   ]
  },
  {
   "cell_type": "code",
   "execution_count": 9,
   "metadata": {
    "collapsed": false
   },
   "outputs": [],
   "source": [
    "for i in range(len(trainset)):\n",
    "    trainset[i] = (Image.open(trainset[i][0]), trainset[i][1])"
   ]
  },
  {
   "cell_type": "code",
   "execution_count": 10,
   "metadata": {
    "collapsed": false
   },
   "outputs": [],
   "source": [
    "for i in range(len(testset)):\n",
    "    testset[i] = (Image.open(testset[i][0]), testset[i][1])"
   ]
  },
  {
   "cell_type": "code",
   "execution_count": null,
   "metadata": {
    "collapsed": true
   },
   "outputs": [],
   "source": [
    "mymodel = torch.load('model-5.cpkt')\n",
    "ep = 5"
   ]
  },
  {
   "cell_type": "code",
   "execution_count": 22,
   "metadata": {
    "collapsed": false
   },
   "outputs": [],
   "source": [
    "ep = 50"
   ]
  },
  {
   "cell_type": "code",
   "execution_count": null,
   "metadata": {
    "collapsed": false,
    "scrolled": true
   },
   "outputs": [
    {
     "name": "stdout",
     "output_type": "stream",
     "text": [
      "[51,    10] loss: 0.129\n",
      "[51,    20] loss: 0.129\n",
      "[51,    30] loss: 0.116\n",
      "[51,    40] loss: 0.123\n",
      "[51,    50] loss: 0.220\n",
      "test :\n",
      "Correct :  79 / 165\n",
      "[52,    10] loss: 0.175\n",
      "[52,    20] loss: 0.172\n",
      "[52,    30] loss: 0.172\n",
      "[52,    40] loss: 0.128\n",
      "[52,    50] loss: 0.150\n",
      "test :\n",
      "Correct :  79 / 165\n",
      "[53,    10] loss: 0.163\n",
      "[53,    20] loss: 0.169\n",
      "[53,    30] loss: 0.139\n",
      "[53,    40] loss: 0.151\n",
      "[53,    50] loss: 0.114\n",
      "test :\n",
      "Correct :  82 / 165\n",
      "[54,    10] loss: 0.173\n",
      "[54,    20] loss: 0.194\n",
      "[54,    30] loss: 0.134\n",
      "[54,    40] loss: 0.154\n",
      "[54,    50] loss: 0.140\n",
      "test :\n",
      "Correct :  77 / 165\n",
      "[55,    10] loss: 0.150\n",
      "[55,    20] loss: 0.127\n",
      "[55,    30] loss: 0.111\n",
      "[55,    40] loss: 0.131\n",
      "[55,    50] loss: 0.119\n",
      "test :\n",
      "Correct :  86 / 165\n",
      "[56,    10] loss: 0.095\n",
      "[56,    20] loss: 0.145\n",
      "[56,    30] loss: 0.147\n",
      "[56,    40] loss: 0.156\n",
      "[56,    50] loss: 0.112\n",
      "test :\n",
      "Correct :  77 / 165\n",
      "[57,    10] loss: 0.098\n",
      "[57,    20] loss: 0.118\n",
      "[57,    30] loss: 0.089\n",
      "[57,    40] loss: 0.108\n",
      "[57,    50] loss: 0.083\n",
      "test :\n",
      "Correct :  87 / 165\n",
      "[58,    10] loss: 0.115\n",
      "[58,    20] loss: 0.121\n",
      "[58,    30] loss: 0.164\n",
      "[58,    40] loss: 0.137\n",
      "[58,    50] loss: 0.168\n",
      "test :\n",
      "Correct :  79 / 165\n",
      "[59,    10] loss: 0.126\n",
      "[59,    20] loss: 0.097\n",
      "[59,    30] loss: 0.116\n",
      "[59,    40] loss: 0.088\n",
      "[59,    50] loss: 0.120\n",
      "test :\n",
      "Correct :  80 / 165\n",
      "[60,    10] loss: 0.127\n",
      "[60,    20] loss: 0.117\n",
      "[60,    30] loss: 0.132\n",
      "[60,    40] loss: 0.139\n",
      "[60,    50] loss: 0.074\n",
      "test :\n",
      "Correct :  84 / 165\n",
      "[61,    10] loss: 0.111\n",
      "[61,    20] loss: 0.119\n",
      "[61,    30] loss: 0.112\n",
      "[61,    40] loss: 0.103\n",
      "[61,    50] loss: 0.102\n",
      "test :\n",
      "Correct :  82 / 165\n",
      "[62,    10] loss: 0.086\n",
      "[62,    20] loss: 0.114\n",
      "[62,    30] loss: 0.088\n",
      "[62,    40] loss: 0.099\n",
      "[62,    50] loss: 0.103\n",
      "test :\n",
      "Correct :  79 / 165\n"
     ]
    }
   ],
   "source": [
    "#mymodel.cuda()\n",
    "#mymodel = best.train()\n",
    "criterion = nn.loss.CrossEntropyLoss()\n",
    "#optimizer = optim.SGD(mymodel.parameters(), lr=0.0001, momentum=0.9)\n",
    "\n",
    "#trainset, imagesList = readImages(\"CliList.txt\")\n",
    "#testset, imagesTest = readImages(\"CliListTest.txt\")\n",
    "#labels = open(\"CliConcept.txt\").read().splitlines()\n",
    "\n",
    "mymodel.train().cuda()\n",
    "\n",
    "imageTransform = transforms.Compose( (transforms.Scale(300), transforms.RandomCrop(225), transforms.ToTensor(), transforms.Normalize(m,s)) )\n",
    "testTransform = transforms.Compose( (transforms.Scale(225), transforms.CenterCrop(225), transforms.ToTensor(), transforms.Normalize(m,s)))\n",
    "batchSize = 64\n",
    "bestScore = 0\n",
    "for epoch in range(ep, 100): # loop over the dataset multiple times\n",
    "    running_loss = 0.0\n",
    "    random.shuffle(trainset)    \n",
    "    for i in range(len(trainset)/batchSize):\n",
    "        \n",
    "        # get the inputs\n",
    "        inputs = torch.Tensor(batchSize,3,225,225).cuda()\n",
    "        for j in range(batchSize):\n",
    "            inputs[j] = imageTransform(trainset[j+i*batchSize][0])\n",
    "        inputs = Variable(inputs)\n",
    "        \n",
    "        #get the labels\n",
    "        lab = Variable(torch.LongTensor([labels.index(trainset[j+i*batchSize][1]) for j in range(batchSize)]).cuda())\n",
    "        \n",
    "        # zero the parameter gradients\n",
    "        optimizer.zero_grad()\n",
    "        \n",
    "        # forward + backward + optimize\n",
    "        outputs = mymodel(inputs)\n",
    "        loss = criterion(outputs, lab)\n",
    "        loss.backward()\n",
    "        optimizer.step()\n",
    "        \n",
    "        # print statistics\n",
    "        running_loss += loss.data[0]\n",
    "        if i % 10 == 9: # print every 10 mini-batches\n",
    "            print('[%d, %5d] loss: %.3f' % (epoch+1, i+1, running_loss / 10))\n",
    "            running_loss = 0.0\n",
    "            \n",
    "        if i % 50 == 49: #test every 20 mini-batches\n",
    "            print('test :')\n",
    "            mymodel = mymodel.eval()\n",
    "            correct = 0\n",
    "            tot = 0\n",
    "            cpt = 0\n",
    "            for j in range(len(testset)/batchSize):\n",
    "                inp = torch.Tensor(batchSize,3,225,225).cuda()\n",
    "                for k in range(batchSize):\n",
    "                    inp[k] = testTransform(testset[j*batchSize+k][0])\n",
    "                    cpt += 1\n",
    "                outputs = mymodel(Variable(inp))\n",
    "                _, predicted = torch.max(outputs.data, 1)\n",
    "                predicted = predicted.tolist()\n",
    "                for k in range(batchSize):\n",
    "                    if (testset[j*batchSize+k][1] in labels):\n",
    "                        correct += (predicted[k][0] == labels.index(testset[j*batchSize+k][1]))\n",
    "                        tot += 1\n",
    "                        \n",
    "            rest = len(testset)%batchSize\n",
    "            inp = torch.Tensor(rest,3,225,225).cuda()\n",
    "            for j in range(rest):\n",
    "                inp[j] = testTransform(testset[len(testset)-rest+j][0])\n",
    "            outputs = mymodel(Variable(inp))\n",
    "            _, predicted = torch.max(outputs.data, 1)\n",
    "            predicted = predicted.tolist()\n",
    "            for j in range(rest):\n",
    "                if (testset[len(testset)-rest+j][1] in labels):\n",
    "                   correct += (predicted[j][0] == labels.index(testset[len(testset)-rest+j][1]))\n",
    "                   tot += 1\n",
    "            print(\"Correct : \", correct, \"/\", tot)\n",
    "            if (correct >= bestScore):\n",
    "                best = mymodel\n",
    "                bestScore = correct\n",
    "                torch.save(best, \"bestModel.ckpt\")\n",
    "            #else:\n",
    "            #    mymodel = best\n",
    "            torch.save(mymodel, \"model-\"+str(epoch)+\".ckpt\")\n",
    "            mymodel = mymodel.train()\n",
    "            \n",
    "print('Finished Training')"
   ]
  },
  {
   "cell_type": "code",
   "execution_count": null,
   "metadata": {
    "collapsed": false
   },
   "outputs": [],
   "source": [
    "m = ModelDefinition.SiameseMax()"
   ]
  },
  {
   "cell_type": "code",
   "execution_count": null,
   "metadata": {
    "collapsed": false
   },
   "outputs": [],
   "source": [
    "im = Image.open(trainset[0][0]).resize( (225, 225))\n",
    "testTransform = transforms.Compose( (transforms.Scale(225), transforms.ToTensor()))\n",
    "im = testTransform(im)"
   ]
  },
  {
   "cell_type": "code",
   "execution_count": null,
   "metadata": {
    "collapsed": false
   },
   "outputs": [],
   "source": [
    "t = torch.Tensor(1,3,225,225)\n",
    "t[0] = im\n",
    "output = m( Variable(t), Variable(t) ) "
   ]
  },
  {
   "cell_type": "code",
   "execution_count": null,
   "metadata": {
    "collapsed": false
   },
   "outputs": [],
   "source": [
    "optimizer"
   ]
  }
 ],
 "metadata": {
  "kernelspec": {
   "display_name": "Python 2",
   "language": "python",
   "name": "python2"
  },
  "language_info": {
   "codemirror_mode": {
    "name": "ipython",
    "version": 2
   },
   "file_extension": ".py",
   "mimetype": "text/x-python",
   "name": "python",
   "nbconvert_exporter": "python",
   "pygments_lexer": "ipython2",
   "version": "2.7.9"
  }
 },
 "nbformat": 4,
 "nbformat_minor": 2
}
