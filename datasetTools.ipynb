{
 "cells": [
  {
   "cell_type": "code",
   "execution_count": 8,
   "metadata": {
    "collapsed": false
   },
   "outputs": [],
   "source": [
    "\"\"\"\n",
    "import glob\n",
    "with open('CliListTest.txt', \"w\") as f:\n",
    "    l = glob.glob('/home/data/collection/GUIMUTEIC/CLICIDE/CLICIDEMAX/test/*.JPG')\n",
    "    print(len(l))\n",
    "    for a in l:\n",
    "        if not 'wall' in a:\n",
    "            f.write(a+\"\\n\")\n",
    "\"\"\"\n",
    "with open('FouList.txt', \"r\") as f:\n",
    "    with open('FouConcept.txt' ,\"w\") as fout:\n",
    "        a = set()\n",
    "        for l in f:\n",
    "            floor, nb, _ = l.split('/')[-1].split('_')\n",
    "            a.add(floor+'_'+nb)\n",
    "        for e in a:\n",
    "            fout.write(e+'\\n')\n"
   ]
  }
 ],
 "metadata": {
  "kernelspec": {
   "display_name": "Python 2",
   "language": "python",
   "name": "python2"
  },
  "language_info": {
   "codemirror_mode": {
    "name": "ipython",
    "version": 2
   },
   "file_extension": ".py",
   "mimetype": "text/x-python",
   "name": "python",
   "nbconvert_exporter": "python",
   "pygments_lexer": "ipython2",
   "version": "2.7.9"
  }
 },
 "nbformat": 4,
 "nbformat_minor": 2
}
