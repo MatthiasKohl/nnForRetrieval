{
 "cells": [
  {
   "cell_type": "code",
   "execution_count": 1,
   "metadata": {
    "collapsed": true
   },
   "outputs": [],
   "source": [
    "import tensorflow as tf\n",
    "import torch.utils.data\n",
    "import torchvision.transforms as transforms"
   ]
  },
  {
   "cell_type": "code",
   "execution_count": null,
   "metadata": {
    "collapsed": true
   },
   "outputs": [],
   "source": [
    "def ComputeMean(imagesList, h=299, w=299):\n",
    "    \"\"\"\n",
    "        TODO : make efficient\n",
    "        Return the mean of the collection for each chanel RGB\n",
    "    \"\"\"\n",
    "    r,g,b = 0,0,0\n",
    "    toT = transforms.ToTensor()\n",
    "\n",
    "    #f = FloatProgress(min=0, max=len(imagesList))\n",
    "    #display(f)\n",
    "\n",
    "    for im in imagesList:\n",
    "        #f.value += 1\n",
    "        t = toT(im)\n",
    "        for e in t[0].view(-1):\n",
    "            r += e\n",
    "        for e in t[1].view(-1):\n",
    "            g += e\n",
    "        for e in t[2].view(-1):\n",
    "            b += e\n",
    "    return r/(len(imagesList)*h*w), g/(len(imagesList)*h*w), b/(len(imagesList)*h*w) "
   ]
  },
  {
   "cell_type": "code",
   "execution_count": null,
   "metadata": {
    "collapsed": true
   },
   "outputs": [],
   "source": [
    "def ComputeStdDev(imagesList, mean):\n",
    "    \"\"\"\n",
    "        TODO : make efficient\n",
    "        Return the std deviation for each channel over the collection\n",
    "    \"\"\"\n",
    "    toT = transforms.ToTensor()\n",
    "    r,g,b = 0,0,0\n",
    "    h = len(toT(imagesList[0])[0])\n",
    "    w = len(toT(imagesList[0])[0][0])\n",
    "    for im in imagesList:\n",
    "        t = toT(im)\n",
    "        for e in t[0].view(-1):\n",
    "            r += (e - mean[0])**2\n",
    "        for e in t[1].view(-1):\n",
    "            g += (e - mean[1])**2\n",
    "        for e in t[2].view(-1):\n",
    "            b += (e - mean[2])**2\n",
    "    return (r/(len(imagesList)*h*w))**0.5, (g/(len(imagesList)*h*w))**0.5, (b/(len(imagesList)*h*w))**0.5"
   ]
  },
  {
   "cell_type": "code",
   "execution_count": 2,
   "metadata": {
    "collapsed": true
   },
   "outputs": [],
   "source": [
    "def createConceptDict(imageList):\n",
    "    \"\"\"\n",
    "        Create a dictionnary that store for each concept the list of image path corresponding\n",
    "    \"\"\"\n",
    "    ConceptDict = {}\n",
    "    for im in imageList:\n",
    "        if im[1] in ConceptDict.keys():\n",
    "            ConceptDict[im[1]].append(im[0])\n",
    "        else:\n",
    "            ConceptDict[im[1]] = [im[0]]\n",
    "    return ConceptDict"
   ]
  }
 ],
 "metadata": {
  "kernelspec": {
   "display_name": "Python 2",
   "language": "python",
   "name": "python2"
  },
  "language_info": {
   "codemirror_mode": {
    "name": "ipython",
    "version": 2
   },
   "file_extension": ".py",
   "mimetype": "text/x-python",
   "name": "python",
   "nbconvert_exporter": "python",
   "pygments_lexer": "ipython2",
   "version": "2.7.9"
  }
 },
 "nbformat": 4,
 "nbformat_minor": 2
}
