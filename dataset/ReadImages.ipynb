{
 "cells": [
  {
   "cell_type": "code",
   "execution_count": 1,
   "metadata": {
    "collapsed": true,
    "deletable": true,
    "editable": true
   },
   "outputs": [],
   "source": [
    "from __future__ import division\n",
    "import glob\n",
    "import os.path as path\n",
    "from PIL import Image\n",
    "import torchvision.transforms as transforms"
   ]
  },
  {
   "cell_type": "code",
   "execution_count": 2,
   "metadata": {
    "collapsed": true,
    "deletable": true,
    "editable": true
   },
   "outputs": [],
   "source": [
    "def readImagesInCLass(folder='.'):\n",
    "    \"\"\"\n",
    "        Read a folder containing images with the structure :\n",
    "            folder\n",
    "                --class1\n",
    "                    --image1\n",
    "                    --image2\n",
    "                --class2\n",
    "                    --image3\n",
    "                    --image3\n",
    "        \n",
    "        Return :\n",
    "            list of couple : (image, class)\n",
    "    \"\"\"\n",
    "    \n",
    "    exts = ('*.jpg', '*.JPG', '*.JPEG', \"*.png\")\n",
    "    r = []\n",
    "    for el in glob.iglob(path.join(folder, '*')):\n",
    "        if path.isdir(el):\n",
    "            for ext in exts:\n",
    "                r.extend( [(im, el.split('/')[-1]) for im in glob.iglob(path.join(el, ext)) ] )\n",
    "    return r"
   ]
  },
  {
   "cell_type": "code",
   "execution_count": 3,
   "metadata": {
    "collapsed": true,
    "deletable": true,
    "editable": true
   },
   "outputs": [],
   "source": [
    "def readImageswithPattern(folder='.', matchFunc=lambda x:x.split('.')[0]):\n",
    "    \"\"\"\n",
    "        Read a folder containing images where the name of the class is in the filename\n",
    "        the match function should return the class given the filename\n",
    "        Return :\n",
    "            list of couple : (image, class)\n",
    "    \"\"\"\n",
    "    exts = ('*.jpg', '*.JPG', '*.JPEG', \"*.png\")\n",
    "    r = []\n",
    "    for ext in exts:\n",
    "        r.extend( [(im, matchFunc(im)) for im in glob.iglob(path.join(folder, ext)) ] )\n",
    "    return r"
   ]
  },
  {
   "cell_type": "code",
   "execution_count": 4,
   "metadata": {
    "collapsed": false,
    "deletable": true,
    "editable": true
   },
   "outputs": [],
   "source": [
    "def openAll(imageList, size=0 ):\n",
    "    \"\"\"\n",
    "        Open all images, return a list of PIL images\n",
    "    \"\"\"\n",
    "    if size == 0:\n",
    "        return [Image.open(im) for im, c in imageList]\n",
    "    else:\n",
    "        return [Image.open(im).resize(size) for im, c in imageList]\n",
    "        "
   ]
  },
  {
   "cell_type": "code",
   "execution_count": null,
   "metadata": {
    "collapsed": true
   },
   "outputs": [],
   "source": [
    "def openDict(imageList, size=(225,225)):\n",
    "    \"\"\"\n",
    "        Open all images, return a dictionnary of (image name : PIL image) and resize as the given size\n",
    "    \"\"\"\n",
    "    return {im: Image.open(im).resize(size) for im, c in imageList}"
   ]
  },
  {
   "cell_type": "code",
   "execution_count": 5,
   "metadata": {
    "collapsed": true,
    "deletable": true,
    "editable": true
   },
   "outputs": [],
   "source": [
    "def positiveCouples(dataset):\n",
    "    \"\"\"\n",
    "        Create all positive couples in the dataset\n",
    "    \"\"\"\n",
    "    return [ (im[0], im2[0], 1) for im in dataset for im2 in dataset if im[1]==im2[1]]"
   ]
  },
  {
   "cell_type": "code",
   "execution_count": 6,
   "metadata": {
    "collapsed": false
   },
   "outputs": [],
   "source": [
    "def negativeCouples(dataset):\n",
    "    \"\"\"\n",
    "        Create all negative couples in the dataset\n",
    "    \"\"\"\n",
    "    return [ (im[0], im2[0], -1) for im in dataset for im2 in dataset if im[1] != im2[1]]"
   ]
  },
  {
   "cell_type": "code",
   "execution_count": 9,
   "metadata": {
    "collapsed": false
   },
   "outputs": [],
   "source": [
    "def createCouples(dataset):\n",
    "    \"\"\"\n",
    "        Create all couples in the dataset\n",
    "    \"\"\"\n",
    "    return [ (im[0], im2[0], 1) if im[1] == im2[1] else (im[0], im2[0], -1) for im in dataset for im2 in dataset]"
   ]
  },
  {
   "cell_type": "code",
   "execution_count": 10,
   "metadata": {
    "collapsed": false
   },
   "outputs": [
    {
     "name": "stdout",
     "output_type": "stream",
     "text": [
      "27271\n",
      "10502754\n",
      "Nb of p / nb of n : 0.260 %\n",
      "10530025\n"
     ]
    }
   ],
   "source": [
    "if __name__ == '__main__':\n",
    "    dataset = readImageswithPattern('/video/CLICIDE', lambda x:x.split('/')[-1].split('-')[0]) #read Clicide dataset\n",
    "    p = positiveCouples(dataset) #Clicide positives couples\n",
    "    print(len(p)) #should be 27217\n",
    "    n = negativeCouples(dataset) #Clicide negatives couples, all of them\n",
    "    print(len(n)) #should be 10502754 (10M)\n",
    "    print(\"Nb of p / nb of n : %.3f %%\"  % (len(p)/len(n)*100)) #around 0.2% of positive examples\n",
    "    a = createCouples(dataset)\n",
    "    print(len(a))\n",
    "    "
   ]
  }
 ],
 "metadata": {
  "kernelspec": {
   "display_name": "Python 2",
   "language": "python",
   "name": "python2"
  },
  "language_info": {
   "codemirror_mode": {
    "name": "ipython",
    "version": 2
   },
   "file_extension": ".py",
   "mimetype": "text/x-python",
   "name": "python",
   "nbconvert_exporter": "python",
   "pygments_lexer": "ipython2",
   "version": "2.7.9"
  }
 },
 "nbformat": 4,
 "nbformat_minor": 2
}
