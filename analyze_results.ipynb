{
 "cells": [
  {
   "cell_type": "code",
   "execution_count": 22,
   "metadata": {
    "collapsed": true,
    "deletable": true,
    "editable": true
   },
   "outputs": [],
   "source": [
    "import os\n",
    "import numpy as np\n",
    "import subprocess"
   ]
  },
  {
   "cell_type": "code",
   "execution_count": 23,
   "metadata": {
    "collapsed": true,
    "deletable": true,
    "editable": true
   },
   "outputs": [],
   "source": [
    "rnk_path1 = '../gordo_retrieval/finetuned_best'\n",
    "rnk_path2 = '../gordo_retrieval/gordo_multires'\n",
    "eval_file = '../gordo_retrieval/datasets/evaluation/compute_ap'\n",
    "lab_root = '../gordo_retrieval/datasets/CLICIDE/lab'"
   ]
  },
  {
   "cell_type": "code",
   "execution_count": 24,
   "metadata": {
    "collapsed": true,
    "deletable": true,
    "editable": true
   },
   "outputs": [],
   "source": [
    "def f_2_name(fname):\n",
    "    return fname.split('/')[-1].split('.')[0]\n",
    "def f_2_lab(fname):\n",
    "    return fname.split('/')[-1].split('-')[0]"
   ]
  },
  {
   "cell_type": "code",
   "execution_count": 25,
   "metadata": {
    "collapsed": false,
    "deletable": true,
    "editable": true
   },
   "outputs": [],
   "source": [
    "clicide_qnames = [f_2_name(fname)[:-len('_query')] for fname in os.listdir(lab_root) if fname.endswith('_query.txt')]"
   ]
  },
  {
   "cell_type": "code",
   "execution_count": 26,
   "metadata": {
    "collapsed": true,
    "deletable": true,
    "editable": true
   },
   "outputs": [],
   "source": [
    "def ap_rnk(rnk_file):\n",
    "    cmd = \"{0} {1} {2}\".format(eval_file, os.path.join(lab_root, f_2_name(rnk_file)), rnk_file)\n",
    "    p = subprocess.Popen(cmd, shell=True, stdout=subprocess.PIPE, stderr=subprocess.STDOUT)\n",
    "    map_ = float(p.stdout.readlines()[0])\n",
    "    p.wait()\n",
    "    return map_\n",
    "\n",
    "def prec1_rnk(rnk_file):\n",
    "    with open(rnk_file) as f:\n",
    "        res = int(f.readline().split('-')[0] == f_2_lab(rnk_file))\n",
    "    return res"
   ]
  },
  {
   "cell_type": "code",
   "execution_count": 27,
   "metadata": {
    "collapsed": false,
    "deletable": true,
    "editable": true
   },
   "outputs": [
    {
     "name": "stdout",
     "output_type": "stream",
     "text": [
      "Analysis of: ../gordo_retrieval/finetuned_best\n",
      "mean AP: 0.74013620863\n",
      "mean Prec1: 0.787878787879\n",
      "#files with AP<0.2: 29\n",
      "mean AP of these files: 0.0479975663448\n",
      "Analysis of: ../gordo_retrieval/gordo_multires\n",
      "mean AP: 0.703579815697\n",
      "mean Prec1: 0.927272727273\n",
      "#files with AP<0.2: 18\n",
      "mean AP of these files: 0.0794265327778\n"
     ]
    }
   ],
   "source": [
    "results = {}\n",
    "ap_threshold = 0.2\n",
    "for rnk_path in (rnk_path1, rnk_path2):\n",
    "    results[rnk_path] = {}\n",
    "    for rnk_file in os.listdir(rnk_path):\n",
    "        name = f_2_name(rnk_file)\n",
    "        if name not in clicide_qnames:\n",
    "            continue\n",
    "\n",
    "        rnk_file = os.path.join(rnk_path, rnk_file)\n",
    "        ap = ap_rnk(rnk_file)\n",
    "        prec1 = prec1_rnk(rnk_file)\n",
    "        results[rnk_path][name] = (ap, prec1, ap < ap_threshold)\n",
    "    print('Analysis of: {0}'.format(rnk_path))\n",
    "    print('mean AP: {0}'.format(np.mean([results[rnk_path][name][0] for name in results[rnk_path]])))\n",
    "    print('mean Prec1: {0}'.format(np.mean([results[rnk_path][name][1] for name in results[rnk_path]])))\n",
    "    print('#files with AP<{0}: {1}'.format(ap_threshold, sum(results[rnk_path][name][2] for name in results[rnk_path])))\n",
    "    print('mean AP of these files: {0}'.format(np.mean([results[rnk_path][name][0] for name in results[rnk_path] if results[rnk_path][name][2]])))"
   ]
  },
  {
   "cell_type": "code",
   "execution_count": 28,
   "metadata": {
    "collapsed": false,
    "deletable": true,
    "editable": true
   },
   "outputs": [
    {
     "name": "stdout",
     "output_type": "stream",
     "text": [
      "Difficult images for both\n",
      "('1F-0452', (0.00817937, 0, True), (0.107334, 1, True))\n",
      "('1C-0454', (0.0137451, 0, True), (0.112644, 0, True))\n",
      "('4L-0504', (0.000320924, 0, True), (0.00165017, 0, True))\n",
      "('12G-0428', (0.122469, 0, True), (0.156106, 1, True))\n",
      "('5P-0508', (0.0494926, 0, True), (0.0244491, 0, True))\n",
      "('8F-0517', (0.0837345, 0, True), (0.119059, 1, True))\n",
      "('2J-0458', (0.0910156, 0, True), (0.137268, 1, True))\n",
      "('5B-0506', (0.00202822, 0, True), (0.0132368, 0, True))\n",
      "('2A-0456', (0.0735675, 0, True), (0.16275, 1, True))\n",
      "('16C-0343', (0.0152826, 0, True), (0.107037, 1, True))\n",
      "('23G-0738', (0.0131184, 0, True), (0.142712, 1, True))\n",
      "('11C-0351', (0.00422175, 0, True), (0.00396822, 0, True))\n",
      "('2H-0460', (0.0770878, 0, True), (0.145631, 1, True))\n",
      "('26J-1245', (0.00104124, 0, True), (0.00562519, 0, True))\n",
      "('2E-0495', (0.145701, 0, True), (0.140106, 1, True))\n",
      "Difficult images for us, not them\n",
      "('22D-0742', (0.0106182, 0, True), (0.224588, 1, False))\n",
      "('23B-0816', (0.0642858, 0, True), (0.265586, 1, False))\n",
      "('5M-0396', (0.1, 0, True), (1.0, 1, False))\n",
      "('22C-0814', (0.0458418, 0, True), (0.816667, 1, False))\n",
      "('11O-0438', (0.0115587, 0, True), (0.222421, 1, False))\n",
      "('33K-1261', (0.0104851, 0, True), (0.230612, 1, False))\n",
      "('6B-0392', (0.126565, 0, True), (0.876052, 1, False))\n",
      "('3S-0408', (0.00260417, 0, True), (0.25, 0, False))\n",
      "('29F-1253', (0.0212512, 0, True), (0.758232, 1, False))\n",
      "('3H-0466', (0.0587739, 0, True), (0.678471, 1, False))\n",
      "('1R-0446', (0.00846561, 0, True), (0.75404, 1, False))\n",
      "('30P-0976', (0.0416586, 0, True), (0.295878, 1, False))\n",
      "('26J-1247', (0.00292374, 0, True), (0.204293, 0, False))\n",
      "('26A-1236', (0.185892, 0, True), (0.758301, 1, False))\n"
     ]
    }
   ],
   "source": [
    "print('Difficult images for both')\n",
    "for name in results[rnk_path1]:\n",
    "    if results[rnk_path1][name][2] and results[rnk_path2][name][2]:\n",
    "        print(name, results[rnk_path1][name], results[rnk_path2][name])\n",
    "print('Difficult images for us, not them')\n",
    "for name in results[rnk_path1]:\n",
    "    if results[rnk_path1][name][2] and not results[rnk_path2][name][2]:\n",
    "        print(name, results[rnk_path1][name], results[rnk_path2][name])"
   ]
  },
  {
   "cell_type": "code",
   "execution_count": 29,
   "metadata": {
    "collapsed": false,
    "deletable": true,
    "editable": true
   },
   "outputs": [
    {
     "name": "stdout",
     "output_type": "stream",
     "text": [
      "Easy images for both\n",
      "('41C-1223', (1.0, 1, False), (1.0, 1, False))\n",
      "('41E-1221', (1.0, 1, False), (1.0, 1, False))\n",
      "('25B-1230', (1.0, 1, False), (1.0, 1, False))\n",
      "('23D-0740', (1.0, 1, False), (1.0, 1, False))\n",
      "('44C-1218', (1.0, 1, False), (1.0, 1, False))\n",
      "('31A-0566', (1.0, 1, False), (1.0, 1, False))\n",
      "('37K-1216', (1.0, 1, False), (1.0, 1, False))\n",
      "('26K-1234', (1.0, 1, False), (1.0, 1, False))\n",
      "('26K-1233', (1.0, 1, False), (1.0, 1, False))\n",
      "('42E-1220', (1.0, 1, False), (1.0, 1, False))\n",
      "('11J-0521', (1.0, 1, False), (1.0, 1, False))\n",
      "('28I-1246', (1.0, 1, False), (1.0, 1, False))\n",
      "('26P-1232', (1.0, 1, False), (1.0, 1, False))\n",
      "('20F-0729', (1.0, 1, False), (1.0, 1, False))\n",
      "('27C-1240', (1.0, 1, False), (1.0, 1, False))\n",
      "('23K-0717', (1.0, 1, False), (1.0, 1, False))\n",
      "('31A-1252', (1.0, 1, False), (1.0, 1, False))\n",
      "('39C-1258', (1.0, 1, False), (1.0, 1, False))\n",
      "('1L-0489', (1.0, 1, False), (1.0, 1, False))\n",
      "('41A-1222', (1.0, 1, False), (1.0, 1, False))\n",
      "('28C-1244', (1.0, 1, False), (1.0, 1, False))\n",
      "('30A-1237', (1.0, 1, False), (1.0, 1, False))\n",
      "('28C-1249', (1.0, 1, False), (1.0, 1, False))\n",
      "('21N-0810', (1.0, 1, False), (1.0, 1, False))\n",
      "('35D-1263', (1.0, 1, False), (1.0, 1, False))\n",
      "('11C-0436', (1.0, 1, False), (1.0, 1, False))\n",
      "('30D-0972', (1.0, 1, False), (1.0, 1, False))\n",
      "('31B-1254', (1.0, 1, False), (1.0, 1, False))\n",
      "('26H-1236', (1.0, 1, False), (1.0, 1, False))\n",
      "('27F-1238', (1.0, 1, False), (1.0, 1, False))\n",
      "('38D-1212', (1.0, 1, False), (1.0, 1, False))\n",
      "('20B-0804', (1.0, 1, False), (1.0, 1, False))\n",
      "('29D-1235', (1.0, 1, False), (1.0, 1, False))\n",
      "('33F-1259', (1.0, 1, False), (1.0, 1, False))\n"
     ]
    }
   ],
   "source": [
    "print('Easy images for both')\n",
    "for name in results[rnk_path1]:\n",
    "    if results[rnk_path1][name][0] >= 1. and results[rnk_path2][name][0] >= 1.:\n",
    "        print(name, results[rnk_path1][name], results[rnk_path2][name])"
   ]
  },
  {
   "cell_type": "code",
   "execution_count": null,
   "metadata": {
    "collapsed": true
   },
   "outputs": [],
   "source": []
  }
 ],
 "metadata": {
  "kernelspec": {
   "display_name": "Python 2",
   "language": "python",
   "name": "python2"
  },
  "language_info": {
   "codemirror_mode": {
    "name": "ipython",
    "version": 2
   },
   "file_extension": ".py",
   "mimetype": "text/x-python",
   "name": "python",
   "nbconvert_exporter": "python",
   "pygments_lexer": "ipython2",
   "version": "2.7.9"
  }
 },
 "nbformat": 4,
 "nbformat_minor": 2
}
