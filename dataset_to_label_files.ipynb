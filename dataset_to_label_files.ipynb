{
 "cells": [
  {
   "cell_type": "code",
   "execution_count": 45,
   "metadata": {
    "collapsed": false,
    "deletable": true,
    "editable": true
   },
   "outputs": [],
   "source": [
    "from utils import get_images_labels, match_label_video, match_label_fou_clean2\n",
    "from os import path"
   ]
  },
  {
   "cell_type": "code",
   "execution_count": 46,
   "metadata": {
    "collapsed": false,
    "deletable": true,
    "editable": true
   },
   "outputs": [
    {
     "name": "stdout",
     "output_type": "stream",
     "text": [
      "1068\n",
      "624\n",
      "311\n"
     ]
    }
   ],
   "source": [
    "dataset = 'data/pre_proc/fourviere_video_448'\n",
    "dataset_test = 'data/pre_proc/fourviere_video_448/test'\n",
    "match = match_label_video\n",
    "\n",
    "dataSetFull = get_images_labels(dataset, match)\n",
    "testSetFull = get_images_labels(dataset_test, match)\n",
    "labels = set(lab for im, lab in dataSetFull)\n",
    "print(len(dataSetFull))\n",
    "print(len(testSetFull))\n",
    "print(len(labels))"
   ]
  },
  {
   "cell_type": "code",
   "execution_count": 47,
   "metadata": {
    "collapsed": false,
    "deletable": true,
    "editable": true
   },
   "outputs": [
    {
     "name": "stdout",
     "output_type": "stream",
     "text": [
      "624\n"
     ]
    }
   ],
   "source": [
    "count = 0\n",
    "for im, lab in testSetFull:\n",
    "    if lab not in labels:\n",
    "        print('Cannot find reference images for: ' + im)\n",
    "        continue\n",
    "    name = path.splitext(path.basename(im))[0]\n",
    "    with open(name + '_ok.txt', 'w') as f:\n",
    "        f.write('\\n')\n",
    "    with open(name + '_junk.txt', 'w') as f:\n",
    "        f.write('\\n')\n",
    "    with open(name + '_good.txt', 'w') as f:\n",
    "        for im2, lab2 in dataSetFull:\n",
    "            if lab2 != lab:\n",
    "                continue\n",
    "            f.write(path.splitext(path.basename(im2))[0] + '\\n')\n",
    "    with open(name + '_query.txt', 'w') as f:\n",
    "        f.write(name + '\\n')\n",
    "    count += 1\n",
    "print(count)"
   ]
  },
  {
   "cell_type": "code",
   "execution_count": null,
   "metadata": {
    "collapsed": true,
    "deletable": true,
    "editable": true
   },
   "outputs": [],
   "source": []
  }
 ],
 "metadata": {
  "kernelspec": {
   "display_name": "Python 2",
   "language": "python",
   "name": "python2"
  },
  "language_info": {
   "codemirror_mode": {
    "name": "ipython",
    "version": 2
   },
   "file_extension": ".py",
   "mimetype": "text/x-python",
   "name": "python",
   "nbconvert_exporter": "python",
   "pygments_lexer": "ipython2",
   "version": "2.7.9"
  }
 },
 "nbformat": 4,
 "nbformat_minor": 2
}
