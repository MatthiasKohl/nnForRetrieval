{
 "cells": [
  {
   "cell_type": "code",
   "execution_count": 1,
   "metadata": {
    "collapsed": true
   },
   "outputs": [],
   "source": [
    "from utils_dataset import get_images_labels"
   ]
  },
  {
   "cell_type": "code",
   "execution_count": 2,
   "metadata": {
    "collapsed": true
   },
   "outputs": [],
   "source": [
    "dataset = '/home/mrim/data/collection/GUIMUTEIC/FOURVIERE_CLEAN2/TRAIN_I'\n",
    "dataset_test = '/home/mrim/data/collection/GUIMUTEIC/FOURVIERE_CLEAN2/TEST_I'\n",
    "collection = 'fou'\n",
    "\n",
    "\n",
    "def match(x):\n",
    "    if collection == 'cli':\n",
    "        return x.split('/')[-1].split('-')[0]\n",
    "    else:\n",
    "        s = x.split('/')[-1].split('_')\n",
    "    return s[0] + s[1]\n",
    "\n",
    "\n",
    "# training and test sets (scaled to 300 on the small side)\n",
    "dataSetFull = get_images_labels(dataset, match)\n",
    "testSetFull = get_images_labels(dataset_test, match)\n",
    "labels = list(set(lab for im, lab in dataSetFull))"
   ]
  },
  {
   "cell_type": "code",
   "execution_count": 3,
   "metadata": {
    "collapsed": true
   },
   "outputs": [],
   "source": [
    "for im, lab in testSetFull:\n",
    "    if lab in labels:\n",
    "        name = im.split('/')[-1].split('.')[0]\n",
    "        with open(name + '_ok.txt', 'w') as f:\n",
    "            f.write('\\n')\n",
    "        with open(name + '_junk.txt', 'w') as f:\n",
    "            f.write('\\n')\n",
    "        with open(name + '_good.txt', 'w') as f:\n",
    "            for im2, lab2 in dataSetFull:\n",
    "                if lab2 != lab:\n",
    "                    continue\n",
    "                f.write(im2.split('/')[-1].split('.')[0] + '\\n')\n",
    "        with open(name + '_query.txt', 'w') as f:\n",
    "            f.write(name + '\\n')"
   ]
  },
  {
   "cell_type": "code",
   "execution_count": null,
   "metadata": {
    "collapsed": true
   },
   "outputs": [],
   "source": []
  }
 ],
 "metadata": {
  "kernelspec": {
   "display_name": "Python 2",
   "language": "python",
   "name": "python2"
  },
  "language_info": {
   "codemirror_mode": {
    "name": "ipython",
    "version": 2
   },
   "file_extension": ".py",
   "mimetype": "text/x-python",
   "name": "python",
   "nbconvert_exporter": "python",
   "pygments_lexer": "ipython2",
   "version": "2.7.9"
  }
 },
 "nbformat": 4,
 "nbformat_minor": 2
}
